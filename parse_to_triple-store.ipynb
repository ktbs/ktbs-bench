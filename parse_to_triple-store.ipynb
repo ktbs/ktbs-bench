{
 "metadata": {
  "name": ""
 },
 "nbformat": 3,
 "nbformat_minor": 0,
 "worksheets": [
  {
   "cells": [
    {
     "cell_type": "code",
     "collapsed": false,
     "input": [
      "import rdflib as r\n",
      "from ktbs_bench import bnsparqlstore as bn\n",
      "r.plugin.register('BN', r.store.Store, 'ktbs_bench.bnsparqlstore', 'SPARQLUpdateStore')"
     ],
     "language": "python",
     "metadata": {},
     "outputs": [],
     "prompt_number": 1
    },
    {
     "cell_type": "code",
     "collapsed": false,
     "input": [
      "triples = {\"500_triples\": \"data/500.n3\",\n",
      "           \"1K_triples\": \"data/1000.n3\",\n",
      "           \"2k_triples\": \"data/2000.n3\",\n",
      "           \"4k_triples\": \"data/4000.n3\",\n",
      "           \"8k_triples\": \"data/8000.n3\",\n",
      "           \"16k_triples\": \"data/16000.n3\",\n",
      "           \"32k_triples\": \"data/32000.n3\",\n",
      "           \"64k_triples\": \"data/64000.n3\",\n",
      "           \"128k_triples\": \"data/128000.n3\",\n",
      "           \"256k_triples\": \"data/256000.n3\",\n",
      "           \"512k_triples\": \"data/512000.n3\",\n",
      "           \"1m_triples\": \"data/1024000.n3\"}"
     ],
     "language": "python",
     "metadata": {},
     "outputs": [],
     "prompt_number": 2
    },
    {
     "cell_type": "code",
     "collapsed": false,
     "input": [
      "for bench_name, n3_data in triples.items():\n",
      "    bngraph = r.Graph(store='Sleepycat', identifier=\"http://localhost/bench/sleepy/{bench_name}/\".format(bench_name=bench_name))\n",
      "    bngraph.open('sleepycat_many_triples_{bench_name}'.format(bench_name=bench_name))\n",
      "    # %time bngraph.parse(n3_data, format=\"n3\")\n",
      "    print(bngraph.identifier, len(bngraph))\n",
      "    # bngraph.commit()\n",
      "    bngraph.close()"
     ],
     "language": "python",
     "metadata": {},
     "outputs": [
      {
       "output_type": "stream",
       "stream": "stdout",
       "text": [
        "(rdflib.term.URIRef(u'http://localhost/bench/sleepy/256k_triples/'), 256002)\n",
        "(rdflib.term.URIRef(u'http://localhost/bench/sleepy/32k_triples/'), 32330)"
       ]
      },
      {
       "output_type": "stream",
       "stream": "stdout",
       "text": [
        "\n",
        "(rdflib.term.URIRef(u'http://localhost/bench/sleepy/1m_triples/'), 1024112)"
       ]
      },
      {
       "output_type": "stream",
       "stream": "stdout",
       "text": [
        "\n",
        "(rdflib.term.URIRef(u'http://localhost/bench/sleepy/16k_triples/'), 16040)"
       ]
      },
      {
       "output_type": "stream",
       "stream": "stdout",
       "text": [
        "\n",
        "(rdflib.term.URIRef(u'http://localhost/bench/sleepy/128k_triples/'), 128042)"
       ]
      },
      {
       "output_type": "stream",
       "stream": "stdout",
       "text": [
        "\n",
        "(rdflib.term.URIRef(u'http://localhost/bench/sleepy/512k_triples/'), 512184)"
       ]
      },
      {
       "output_type": "stream",
       "stream": "stdout",
       "text": [
        "\n",
        "(rdflib.term.URIRef(u'http://localhost/bench/sleepy/8k_triples/'), 8023)"
       ]
      },
      {
       "output_type": "stream",
       "stream": "stdout",
       "text": [
        "\n",
        "(rdflib.term.URIRef(u'http://localhost/bench/sleepy/500_triples/'), 691)"
       ]
      },
      {
       "output_type": "stream",
       "stream": "stdout",
       "text": [
        "\n",
        "(rdflib.term.URIRef(u'http://localhost/bench/sleepy/2k_triples/'), 2006)"
       ]
      },
      {
       "output_type": "stream",
       "stream": "stdout",
       "text": [
        "\n",
        "(rdflib.term.URIRef(u'http://localhost/bench/sleepy/1K_triples/'), 1285)"
       ]
      },
      {
       "output_type": "stream",
       "stream": "stdout",
       "text": [
        "\n",
        "(rdflib.term.URIRef(u'http://localhost/bench/sleepy/4k_triples/'), 4021)"
       ]
      },
      {
       "output_type": "stream",
       "stream": "stdout",
       "text": [
        "\n",
        "(rdflib.term.URIRef(u'http://localhost/bench/sleepy/64k_triples/'), 64080)"
       ]
      },
      {
       "output_type": "stream",
       "stream": "stdout",
       "text": [
        "\n"
       ]
      }
     ],
     "prompt_number": 8
    },
    {
     "cell_type": "code",
     "collapsed": false,
     "input": [],
     "language": "python",
     "metadata": {},
     "outputs": []
    }
   ],
   "metadata": {}
  }
 ]
}