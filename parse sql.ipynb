{
 "metadata": {
  "name": ""
 },
 "nbformat": 3,
 "nbformat_minor": 0,
 "worksheets": [
  {
   "cells": [
    {
     "cell_type": "code",
     "collapsed": false,
     "input": [
      "import rdflib as r"
     ],
     "language": "python",
     "metadata": {},
     "outputs": [],
     "prompt_number": 1
    },
    {
     "cell_type": "code",
     "collapsed": false,
     "input": [
      "backend = {'pg': {'store': 'SQLAlchemy',\n",
      "                  'id_sub': 'postgres',\n",
      "                  'open': 'postgresql+psycopg2://localhost/persistent_store'},\n",
      "           'sleepy': {'store': 'Sleepycat',\n",
      "                      'id_sub': 'sleepycat',\n",
      "                      'open': 'sleepycat_many_graph_32k'},\n",
      "           'pg2': {'store': 'SQLAlchemy',\n",
      "                   'id_sub': 'postgres',\n",
      "                   'open': 'postgresql+psycopg2://localhost/many_graph'}}"
     ],
     "language": "python",
     "metadata": {},
     "outputs": [],
     "prompt_number": 2
    },
    {
     "cell_type": "code",
     "collapsed": false,
     "input": [
      "choice = 'sleepy'\n",
      "for i in xrange(1):\n",
      "    g = r.Graph(backend[choice]['store'],\n",
      "                identifier='http://localhost/bench/{store}/many_graph_32k/{i}'.format(store=choice, i=i))\n",
      "    g.open(backend[choice]['open'], create=True)\n",
      "    \n",
      "    mem = r.Graph()\n",
      "    mem.parse('data/32000.n3', format='n3')\n",
      "    %time g += mem\n",
      "    \n",
      "    print(g.identifier, len(g))\n",
      "    g.close()\n",
      "    mem.close()"
     ],
     "language": "python",
     "metadata": {},
     "outputs": [
      {
       "output_type": "stream",
       "stream": "stdout",
       "text": [
        "CPU times: user 4.89 s, sys: 14.1 ms, total: 4.9 s\n",
        "Wall time: 4.94 s\n",
        "(rdflib.term.URIRef(u'http://localhost/bench/sleepy/many_graph_32k/0'), 32330)\n"
       ]
      }
     ],
     "prompt_number": 15
    },
    {
     "cell_type": "markdown",
     "metadata": {},
     "source": [
      "Delete a graph in a store\n",
      "-------------------------"
     ]
    },
    {
     "cell_type": "code",
     "collapsed": false,
     "input": [
      "g = r.ConjunctiveGraph(backend[choice]['store'], identifier='http://localhost/bench/{store}/many_graph_32k/{i}'.format(store=choice, i=1))\n",
      "g.open(backend[choice]['open'], create=False)\n",
      "q = 'DROP GRAPH <{graph_id}>'.format(graph_id=g.identifier)\n",
      "g.update(q)"
     ],
     "language": "python",
     "metadata": {},
     "outputs": [],
     "prompt_number": 12
    }
   ],
   "metadata": {}
  }
 ]
}