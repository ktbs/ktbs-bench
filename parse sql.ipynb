{
 "metadata": {
  "name": ""
 },
 "nbformat": 3,
 "nbformat_minor": 0,
 "worksheets": [
  {
   "cells": [
    {
     "cell_type": "code",
     "collapsed": false,
     "input": [
      "import rdflib as r\n",
      "from rdflib_sqlalchemy import registerplugins\n",
      "registerplugins()"
     ],
     "language": "python",
     "metadata": {},
     "outputs": [],
     "prompt_number": 1
    },
    {
     "cell_type": "code",
     "collapsed": false,
     "input": [
      "backend = {'pg': {'store': 'SQLAlchemy',\n",
      "                  'id_sub': 'postgres',\n",
      "                  'open': 'postgresql+psycopg2://localhost/persistent_store'},\n",
      "           'sleepy': {'store': 'Sleepycat',\n",
      "                      'id_sub': 'sleepycat',\n",
      "                      'open': 'sleepycat_many_graph_1M_db'},\n",
      "           'pg2': {'store': 'SQLAlchemy',\n",
      "                   'id_sub': 'postgres',\n",
      "                   'open': 'postgresql+psycopg2://localhost/many_graph'}}"
     ],
     "language": "python",
     "metadata": {},
     "outputs": [],
     "prompt_number": 2
    },
    {
     "cell_type": "code",
     "collapsed": false,
     "input": [
      "choice = 'sleepy'\n",
      "for i in xrange(1, 2):\n",
      "    g = r.Graph(backend[choice]['store'],\n",
      "                identifier='http://localhost/bench/%s/graph1M/' % (backend[choice]['id_sub'],))\n",
      "    g.open(backend[choice]['open'], create=True)\n",
      "    \n",
      "    mem = r.Graph()\n",
      "    mem.parse('data/1024000.n3', format='n3')\n",
      "    %time g += mem\n",
      "    \n",
      "    print(g.identifier, len(g))\n",
      "    g.close()\n",
      "    mem.close()"
     ],
     "language": "python",
     "metadata": {},
     "outputs": [],
     "prompt_number": "*"
    },
    {
     "cell_type": "code",
     "collapsed": false,
     "input": [
      "    "
     ],
     "language": "python",
     "metadata": {},
     "outputs": []
    }
   ],
   "metadata": {}
  }
 ]
}