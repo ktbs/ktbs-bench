{
 "metadata": {
  "name": ""
 },
 "nbformat": 3,
 "nbformat_minor": 0,
 "worksheets": [
  {
   "cells": [
    {
     "cell_type": "code",
     "collapsed": false,
     "input": [
      "import rdflib as r\n",
      "from rdflib_sqlalchemy import registerplugins\n",
      "registerplugins()"
     ],
     "language": "python",
     "metadata": {},
     "outputs": [],
     "prompt_number": 1
    },
    {
     "cell_type": "code",
     "collapsed": false,
     "input": [
      "backend = {'pg': {'store': 'SQLAlchemy',\n",
      "                  'id_sub': 'postgres',\n",
      "                  'open': 'postgresql+psycopg2://localhost/persistent_store'},\n",
      "           'sleepy': {'store': 'Sleepycat',\n",
      "                      'id_sub': 'sleepycat',\n",
      "                      'open': 'sleepycat_db'},\n",
      "           'pg2': {'store': 'SQLAlchemy',\n",
      "                   'id_sub': 'postgres',\n",
      "                   'open': 'postgresql+psycopg2://localhost/many_graph'}}"
     ],
     "language": "python",
     "metadata": {},
     "outputs": [],
     "prompt_number": 2
    },
    {
     "cell_type": "code",
     "collapsed": false,
     "input": [
      "choice = 'pg2'\n",
      "for i in xrange(1, 2):\n",
      "    g = r.Graph(backend[choice]['store'],\n",
      "                identifier='http://localhost/bench/%s/graph256000/' % (backend[choice]['id_sub'],))\n",
      "    g.open(backend[choice]['open'], create=True)\n",
      "    \n",
      "    mem = r.Graph()\n",
      "    mem.parse('data/256000.n3', format='n3')\n",
      "    %time g += mem\n",
      "    \n",
      "    #%time g.parse('data/32000.n3', format='n3')\n",
      "    \n",
      "    print(g.identifier, len(g))\n",
      "    g.close()\n",
      "    mem.close()"
     ],
     "language": "python",
     "metadata": {},
     "outputs": [
      {
       "output_type": "stream",
       "stream": "stdout",
       "text": [
        "CPU times: user 42 s, sys: 8.34 s, total: 50.4 s\n",
        "Wall time: 2min 30s\n",
        "(rdflib.term.URIRef(u'http://localhost/bench/postgres/graph256000/'), 256002)"
       ]
      },
      {
       "output_type": "stream",
       "stream": "stdout",
       "text": [
        "\n"
       ]
      }
     ],
     "prompt_number": 3
    },
    {
     "cell_type": "code",
     "collapsed": false,
     "input": [],
     "language": "python",
     "metadata": {},
     "outputs": []
    }
   ],
   "metadata": {}
  }
 ]
}