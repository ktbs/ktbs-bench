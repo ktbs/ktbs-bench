{
 "metadata": {
  "name": ""
 },
 "nbformat": 3,
 "nbformat_minor": 0,
 "worksheets": [
  {
   "cells": [
    {
     "cell_type": "markdown",
     "metadata": {},
     "source": [
      "##Setting up the store"
     ]
    },
    {
     "cell_type": "code",
     "collapsed": false,
     "input": [
      "import rdflib as r\n",
      "from rdflib.namespace import RDF, FOAF\n",
      "\n",
      "graph = r.Graph('SPARQLUpdateStore', identifier=r.URIRef(\"http://localhost/tmp_store\"))\n",
      "\n",
      "graph.open( (\"http://localhost:8000/sparql/\", \"http://localhost:8000/update/\") )  # 4store\n",
      "#graph.open( (\"http://localhost:8890/sparql/\", \"http://localhost:8890/sparql\") )  # virtuoso"
     ],
     "language": "python",
     "metadata": {},
     "outputs": [],
     "prompt_number": 30
    },
    {
     "cell_type": "markdown",
     "metadata": {},
     "source": [
      "## Inserting some triples into the store"
     ]
    },
    {
     "cell_type": "code",
     "collapsed": false,
     "input": [
      "import store_tests as st\n",
      "usr, sys = st.iter_insert(5000, graph)\n",
      "print(\"usr: %s, sys: %s, usr+sys: %s\" % (usr, sys, usr+sys))"
     ],
     "language": "python",
     "metadata": {},
     "outputs": [
      {
       "output_type": "stream",
       "stream": "stdout",
       "text": [
        "usr: 4.457037, sys: 2.539235, usr+sys: 6.996272\n"
       ]
      }
     ],
     "prompt_number": 31
    },
    {
     "cell_type": "markdown",
     "metadata": {},
     "source": [
      "## Querying the store"
     ]
    },
    {
     "cell_type": "code",
     "collapsed": false,
     "input": [
      "import utils as u\n",
      "tstart = u.clock2()\n",
      "qres = graph.query(\"select ?s ?p ?o where {?s ?p ?o}\")\n",
      "print(\"#res: %s\" % len(qres))\n",
      "tend = u.clock2()\n",
      "usr, sys = map(u.sub, tend, tstart)\n",
      "print(\"usr: %s, sys: %s, usr+sys: %s\" % (usr, sys, usr+sys))"
     ],
     "language": "python",
     "metadata": {},
     "outputs": [
      {
       "output_type": "stream",
       "stream": "stdout",
       "text": [
        "#res: 1996\n",
        "usr: 0.111831, sys: 0.004759, usr+sys: 0.11659\n"
       ]
      }
     ],
     "prompt_number": 32
    },
    {
     "cell_type": "code",
     "collapsed": false,
     "input": [],
     "language": "python",
     "metadata": {},
     "outputs": []
    }
   ],
   "metadata": {}
  }
 ]
}