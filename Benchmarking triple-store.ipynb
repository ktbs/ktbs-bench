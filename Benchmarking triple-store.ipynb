{
 "metadata": {
  "name": ""
 },
 "nbformat": 3,
 "nbformat_minor": 0,
 "worksheets": [
  {
   "cells": [
    {
     "cell_type": "markdown",
     "metadata": {},
     "source": [
      "##Setting up the store"
     ]
    },
    {
     "cell_type": "code",
     "collapsed": false,
     "input": [
      "import rdflib as r\n",
      "from rdflib.namespace import RDF, FOAF\n",
      "\n",
      "#r.plugin.register('SQLite', r.store.Store, 'rdflib_sqlite.SQLite', 'SQLite')\n",
      "graph = r.Graph('SQLAlchemy')\n",
      "graph.open(\"postgresql+psycopg2://localhost/newtest_sqapg\", create=True)\n",
      "\n",
      "#graph = r.Graph('SPARQLUpdateStore', identifier=r.URIRef(\"http://localhost/tmp_store\"))\n",
      "\n",
      "#graph.open( (\"http://localhost:8000/sparql/\", \"http://localhost:8000/update/\") )  # 4store\n",
      "#graph.open( (\"http://localhost:8890/sparql/\", \"http://localhost:8890/sparql\") )  # virtuoso\n",
      "#graph.open( (\"http://localhost:3030/ds/query\", \"http://localhost:3030/ds/update\") ) # Jena/Fuseki/TDB"
     ],
     "language": "python",
     "metadata": {},
     "outputs": [
      {
       "metadata": {},
       "output_type": "pyout",
       "prompt_number": 1,
       "text": [
        "1"
       ]
      }
     ],
     "prompt_number": 1
    },
    {
     "cell_type": "markdown",
     "metadata": {},
     "source": [
      "## Inserting some triples into the store"
     ]
    },
    {
     "cell_type": "code",
     "collapsed": false,
     "input": [
      "import store_tests as st\n",
      "import time\n",
      "N_INSERT_ITER = 5\n",
      "for _ in xrange(N_INSERT_ITER):\n",
      "    tstart = time.time()\n",
      "    usr, sys = st.iter_insert(5000, graph)\n",
      "    print(\"usr: %s, sys: %s, usr+sys: %s, real: %s\" % (usr, sys, usr+sys, time.time() - tstart))"
     ],
     "language": "python",
     "metadata": {},
     "outputs": [
      {
       "output_type": "stream",
       "stream": "stdout",
       "text": [
        "usr: 2.326885, sys: 0.186247, usr+sys: 2.513132, real: 4.41062402725\n",
        "usr: 2.235329, sys: 0.173213, usr+sys: 2.408542, real: 4.25199604034"
       ]
      },
      {
       "output_type": "stream",
       "stream": "stdout",
       "text": [
        "\n",
        "usr: 2.273662, sys: 0.179814, usr+sys: 2.453476, real: 4.34350681305"
       ]
      },
      {
       "output_type": "stream",
       "stream": "stdout",
       "text": [
        "\n",
        "usr: 2.237829, sys: 0.1729, usr+sys: 2.410729, real: 4.32373690605"
       ]
      },
      {
       "output_type": "stream",
       "stream": "stdout",
       "text": [
        "\n",
        "usr: 2.285623, sys: 0.181116, usr+sys: 2.466739, real: 4.44190216064"
       ]
      },
      {
       "output_type": "stream",
       "stream": "stdout",
       "text": [
        "\n"
       ]
      }
     ],
     "prompt_number": 2
    },
    {
     "cell_type": "markdown",
     "metadata": {},
     "source": [
      "## Querying the store"
     ]
    },
    {
     "cell_type": "code",
     "collapsed": false,
     "input": [
      "import utils as u\n",
      "N_QUERY_ITER = 5\n",
      "for _ in xrange(N_QUERY_ITER):\n",
      "    twall_start = time.time()\n",
      "    tstart = u.clock2()\n",
      "    qres = graph.query(\"select ?s ?p ?o where {?s ?p ?o}\")\n",
      "    print(\"n_res: %s\" % len(qres))\n",
      "    tend = u.clock2()\n",
      "    usr, sys = map(u.sub, tend, tstart)\n",
      "    print(\"usr: %s, sys: %s, usr+sys: %s, real: %s\" % (usr, sys, usr+sys, time.time() - twall_start))\n",
      "    qres.serialize(destination=\"/tmp/qres_dump.xml\")"
     ],
     "language": "python",
     "metadata": {},
     "outputs": [
      {
       "output_type": "stream",
       "stream": "stdout",
       "text": [
        "n_res: 5000\n",
        "usr: 0.621468, sys: 0.051768, usr+sys: 0.673236, real: 1.4423160553\n",
        "n_res: 5000"
       ]
      },
      {
       "output_type": "stream",
       "stream": "stdout",
       "text": [
        "\n",
        "usr: 0.368343, sys: 0.0288, usr+sys: 0.397143, real: 1.13950395584\n",
        "n_res: 5000"
       ]
      },
      {
       "output_type": "stream",
       "stream": "stdout",
       "text": [
        "\n",
        "usr: 0.344587, sys: 0.022934, usr+sys: 0.367521, real: 0.43714094162\n",
        "n_res: 5000"
       ]
      },
      {
       "output_type": "stream",
       "stream": "stdout",
       "text": [
        "\n",
        "usr: 0.351601, sys: 0.03917, usr+sys: 0.390771, real: 0.441323041916\n",
        "n_res: 5000"
       ]
      },
      {
       "output_type": "stream",
       "stream": "stdout",
       "text": [
        "\n",
        "usr: 0.343374, sys: 0.020547, usr+sys: 0.363921, real: 0.417505025864\n"
       ]
      }
     ],
     "prompt_number": 3
    },
    {
     "cell_type": "code",
     "collapsed": false,
     "input": [],
     "language": "python",
     "metadata": {},
     "outputs": []
    }
   ],
   "metadata": {}
  }
 ]
}