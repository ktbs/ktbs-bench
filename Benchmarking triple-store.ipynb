{
 "metadata": {
  "name": ""
 },
 "nbformat": 3,
 "nbformat_minor": 0,
 "worksheets": [
  {
   "cells": [
    {
     "cell_type": "markdown",
     "metadata": {},
     "source": [
      "##Setting up the store"
     ]
    },
    {
     "cell_type": "code",
     "collapsed": false,
     "input": [
      "import rdflib as r\n",
      "from rdflib.namespace import RDF, FOAF\n",
      "\n",
      "graph = r.Graph('SPARQLUpdateStore', identifier=r.URIRef(\"http://localhost/tmp_store\"))\n",
      "\n",
      "graph.open( (\"http://localhost:8000/sparql/\", \"http://localhost:8000/update/\") )  # 4store\n",
      "#graph.open( (\"http://localhost:8890/sparql/\", \"http://localhost:8890/sparql\") )  # virtuoso\n",
      "#graph.open( (\"http://localhost:3030/ds/query\", \"http://localhost:3030/ds/update\") ) # Jena/Fuseki/TDB"
     ],
     "language": "python",
     "metadata": {},
     "outputs": [],
     "prompt_number": 1
    },
    {
     "cell_type": "markdown",
     "metadata": {},
     "source": [
      "## Inserting some triples into the store"
     ]
    },
    {
     "cell_type": "code",
     "collapsed": false,
     "input": [
      "import store_tests as st\n",
      "import time\n",
      "N_ITER = 5\n",
      "for _ in xrange(N_ITER):\n",
      "    tstart = time.time()\n",
      "    usr, sys = st.iter_insert(5000, graph)\n",
      "    print(\"usr: %s, sys: %s, usr+sys: %s, real: %s\" % (usr, sys, usr+sys, time.time() - tstart))"
     ],
     "language": "python",
     "metadata": {},
     "outputs": [
      {
       "output_type": "stream",
       "stream": "stdout",
       "text": [
        "usr: 4.630642, sys: 2.665942, usr+sys: 7.296584, real: 39.057710886\n",
        "usr: 4.608775, sys: 2.658756, usr+sys: 7.267531, real: 40.1860032082"
       ]
      },
      {
       "output_type": "stream",
       "stream": "stdout",
       "text": [
        "\n",
        "usr: 4.626784, sys: 2.657311, usr+sys: 7.284095, real: 39.3345589638"
       ]
      },
      {
       "output_type": "stream",
       "stream": "stdout",
       "text": [
        "\n",
        "usr: 4.796232, sys: 2.750021, usr+sys: 7.546253, real: 40.3177449703"
       ]
      },
      {
       "output_type": "stream",
       "stream": "stdout",
       "text": [
        "\n",
        "usr: 4.873296, sys: 2.794057, usr+sys: 7.667353, real: 39.5890750885"
       ]
      },
      {
       "output_type": "stream",
       "stream": "stdout",
       "text": [
        "\n"
       ]
      }
     ],
     "prompt_number": 2
    },
    {
     "cell_type": "markdown",
     "metadata": {},
     "source": [
      "## Querying the store"
     ]
    },
    {
     "cell_type": "code",
     "collapsed": false,
     "input": [
      "import utils as u\n",
      "tstart = u.clock2()\n",
      "qres = graph.query(\"select ?s ?p ?o where {?s ?p ?o}\")\n",
      "print(\"#res: %s\" % len(qres))\n",
      "tend = u.clock2()\n",
      "usr, sys = map(u.sub, tend, tstart)\n",
      "print(\"usr: %s, sys: %s, usr+sys: %s\" % (usr, sys, usr+sys))"
     ],
     "language": "python",
     "metadata": {},
     "outputs": [
      {
       "output_type": "stream",
       "stream": "stdout",
       "text": [
        "#res: 1996\n",
        "usr: 0.400927, sys: 0.038453, usr+sys: 0.43938\n"
       ]
      }
     ],
     "prompt_number": 3
    },
    {
     "cell_type": "code",
     "collapsed": false,
     "input": [],
     "language": "python",
     "metadata": {},
     "outputs": []
    }
   ],
   "metadata": {}
  }
 ]
}