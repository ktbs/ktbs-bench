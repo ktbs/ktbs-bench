{
 "metadata": {
  "name": ""
 },
 "nbformat": 3,
 "nbformat_minor": 0,
 "worksheets": [
  {
   "cells": [
    {
     "cell_type": "markdown",
     "metadata": {},
     "source": [
      "##Setting up the store"
     ]
    },
    {
     "cell_type": "code",
     "collapsed": false,
     "input": [
      "import rdflib as r\n",
      "from rdflib.namespace import RDF, FOAF\n",
      "\n",
      "graph = r.Graph('SPARQLUpdateStore', identifier=r.URIRef(\"http://localhost/tmp_store\"))\n",
      "\n",
      "graph.query.im_func.func_defaults = ('sparql', 'sparql', None, None, False)  # set sparql query to be run by rdflib, not the store\n",
      "\n",
      "#graph.open( (\"http://localhost:8000/sparql/\", \"http://localhost:8000/update/\") )  # 4store\n",
      "#graph.open( (\"http://localhost:8890/sparql/\", \"http://localhost:8890/sparql\") )  # virtuoso\n",
      "graph.open( (\"http://localhost:3030/ds/query\", \"http://localhost:3030/ds/update\") ) # Jena/Fuseki/TDB"
     ],
     "language": "python",
     "metadata": {},
     "outputs": [],
     "prompt_number": 6
    },
    {
     "cell_type": "markdown",
     "metadata": {},
     "source": [
      "## Inserting some triples into the store"
     ]
    },
    {
     "cell_type": "code",
     "collapsed": false,
     "input": [
      "import store_tests as st\n",
      "import time\n",
      "N_INSERT_ITER = 1\n",
      "for _ in xrange(N_INSERT_ITER):\n",
      "    tstart = time.time()\n",
      "    usr, sys = st.iter_insert(5000, graph)\n",
      "    print(\"usr: %s, sys: %s, usr+sys: %s, real: %s\" % (usr, sys, usr+sys, time.time() - tstart))"
     ],
     "language": "python",
     "metadata": {},
     "outputs": [
      {
       "output_type": "stream",
       "stream": "stdout",
       "text": [
        "usr: 7.452888, sys: 2.729905, usr+sys: 10.182793, real: 81.4048960209\n"
       ]
      }
     ],
     "prompt_number": 7
    },
    {
     "cell_type": "markdown",
     "metadata": {},
     "source": [
      "## Querying the store"
     ]
    },
    {
     "cell_type": "code",
     "collapsed": false,
     "input": [
      "import utils as u\n",
      "N_QUERY_ITER = 5\n",
      "for _ in xrange(N_QUERY_ITER):\n",
      "    twall_start = time.time()\n",
      "    tstart = u.clock2()\n",
      "    qres = graph.query(\"select ?s ?p ?o where {?s ?p ?o}\")\n",
      "    print(\"n_res: %s\" % len(qres))\n",
      "    tend = u.clock2()\n",
      "    usr, sys = map(u.sub, tend, tstart)\n",
      "    print(\"usr: %s, sys: %s, usr+sys: %s, real: %s\" % (usr, sys, usr+sys, time.time() - twall_start))\n",
      "    qres.serialize(destination=\"/tmp/qres_dump.xml\")"
     ],
     "language": "python",
     "metadata": {},
     "outputs": [
      {
       "output_type": "stream",
       "stream": "stdout",
       "text": [
        "n_res: 5000\n",
        "usr: 2.704868, sys: 0.063499, usr+sys: 2.768367, real: 3.75016283989\n",
        "n_res: 5000"
       ]
      },
      {
       "output_type": "stream",
       "stream": "stdout",
       "text": [
        "\n",
        "usr: 2.636741, sys: 0.060325, usr+sys: 2.697066, real: 3.99206781387\n",
        "n_res: 5000"
       ]
      },
      {
       "output_type": "stream",
       "stream": "stdout",
       "text": [
        "\n",
        "usr: 2.653099, sys: 0.038722, usr+sys: 2.691821, real: 2.8201007843\n",
        "n_res: 5000"
       ]
      },
      {
       "output_type": "stream",
       "stream": "stdout",
       "text": [
        "\n",
        "usr: 2.686189, sys: 0.058361, usr+sys: 2.74455, real: 2.95616889\n",
        "n_res: 5000"
       ]
      },
      {
       "output_type": "stream",
       "stream": "stdout",
       "text": [
        "\n",
        "usr: 2.65689, sys: 0.052026, usr+sys: 2.708916, real: 2.77631902695\n"
       ]
      }
     ],
     "prompt_number": 8
    },
    {
     "cell_type": "code",
     "collapsed": false,
     "input": [],
     "language": "python",
     "metadata": {},
     "outputs": []
    }
   ],
   "metadata": {}
  }
 ]
}