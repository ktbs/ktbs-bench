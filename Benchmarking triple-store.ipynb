{
 "metadata": {
  "name": ""
 },
 "nbformat": 3,
 "nbformat_minor": 0,
 "worksheets": [
  {
   "cells": [
    {
     "cell_type": "markdown",
     "metadata": {},
     "source": [
      "##Setting up the store"
     ]
    },
    {
     "cell_type": "code",
     "collapsed": false,
     "input": [
      "import rdflib as r\n",
      "from rdflib.namespace import RDF, FOAF\n",
      "\n",
      "r.plugin.register('SQLite', r.store.Store, 'rdflib_sqlite.SQLite', 'SQLite')\n",
      "graph = r.Graph('SQLite')\n",
      "graph.open(\"/tmp/lalalalal.db\", create=True)\n",
      "\n",
      "#graph = r.Graph('SPARQLUpdateStore', identifier=r.URIRef(\"http://localhost/tmp_store\"))\n",
      "\n",
      "#graph.open( (\"http://localhost:8000/sparql/\", \"http://localhost:8000/update/\") )  # 4store\n",
      "#graph.open( (\"http://localhost:8890/sparql/\", \"http://localhost:8890/sparql\") )  # virtuoso\n",
      "#graph.open( (\"http://localhost:3030/ds/query\", \"http://localhost:3030/ds/update\") ) # Jena/Fuseki/TDB"
     ],
     "language": "python",
     "metadata": {},
     "outputs": [
      {
       "metadata": {},
       "output_type": "pyout",
       "prompt_number": 1,
       "text": [
        "1"
       ]
      }
     ],
     "prompt_number": 1
    },
    {
     "cell_type": "markdown",
     "metadata": {},
     "source": [
      "## Inserting some triples into the store"
     ]
    },
    {
     "cell_type": "code",
     "collapsed": false,
     "input": [
      "import store_tests as st\n",
      "import time\n",
      "N_INSERT_ITER = 5\n",
      "for _ in xrange(N_INSERT_ITER):\n",
      "    tstart = time.time()\n",
      "    usr, sys = st.iter_insert(5000, graph)\n",
      "    print(\"usr: %s, sys: %s, usr+sys: %s, real: %s\" % (usr, sys, usr+sys, time.time() - tstart))"
     ],
     "language": "python",
     "metadata": {},
     "outputs": [
      {
       "output_type": "stream",
       "stream": "stdout",
       "text": [
        "usr: 2.265674, sys: 4.702799, usr+sys: 6.968473, real: 51.3567528725\n",
        "usr: 2.266411, sys: 4.832428, usr+sys: 7.098839, real: 63.4678750038"
       ]
      },
      {
       "output_type": "stream",
       "stream": "stdout",
       "text": [
        "\n",
        "usr: 2.360517, sys: 6.054702, usr+sys: 8.415219, real: 74.3862631321"
       ]
      },
      {
       "output_type": "stream",
       "stream": "stdout",
       "text": [
        "\n",
        "usr: 2.326928, sys: 6.329106, usr+sys: 8.656034, real: 85.4042901993"
       ]
      },
      {
       "output_type": "stream",
       "stream": "stdout",
       "text": [
        "\n",
        "usr: 2.416501, sys: 6.478899, usr+sys: 8.8954, real: 88.416574955"
       ]
      },
      {
       "output_type": "stream",
       "stream": "stdout",
       "text": [
        "\n"
       ]
      }
     ],
     "prompt_number": 2
    },
    {
     "cell_type": "markdown",
     "metadata": {},
     "source": [
      "## Querying the store"
     ]
    },
    {
     "cell_type": "code",
     "collapsed": false,
     "input": [
      "import utils as u\n",
      "N_QUERY_ITER = 5\n",
      "for _ in xrange(N_QUERY_ITER):\n",
      "    twall_start = time.time()\n",
      "    tstart = u.clock2()\n",
      "    qres = graph.query(\"select ?s ?p ?o where {?s ?p ?o}\")\n",
      "    print(\"n_res: %s\" % len(qres))\n",
      "    tend = u.clock2()\n",
      "    usr, sys = map(u.sub, tend, tstart)\n",
      "    print(\"usr: %s, sys: %s, usr+sys: %s, real: %s\" % (usr, sys, usr+sys, time.time() - twall_start))\n",
      "    qres.serialize(destination=\"/tmp/qres_dump.xml\")"
     ],
     "language": "python",
     "metadata": {},
     "outputs": [
      {
       "output_type": "stream",
       "stream": "stdout",
       "text": [
        "n_res: 5000\n",
        "usr: 2.819751, sys: 0.061112, usr+sys: 2.880863, real: 5.82864189148\n",
        "n_res: 5000"
       ]
      },
      {
       "output_type": "stream",
       "stream": "stdout",
       "text": [
        "\n",
        "usr: 1.520889, sys: 0.029675, usr+sys: 1.550564, real: 4.52252197266\n",
        "n_res: 5000"
       ]
      },
      {
       "output_type": "stream",
       "stream": "stdout",
       "text": [
        "\n",
        "usr: 1.576241, sys: 0.027604, usr+sys: 1.603845, real: 4.8151550293\n",
        "n_res: 5000"
       ]
      },
      {
       "output_type": "stream",
       "stream": "stdout",
       "text": [
        "\n",
        "usr: 1.542, sys: 0.03296, usr+sys: 1.57496, real: 4.10985517502\n",
        "n_res: 5000"
       ]
      },
      {
       "output_type": "stream",
       "stream": "stdout",
       "text": [
        "\n",
        "usr: 1.602513, sys: 0.031202, usr+sys: 1.633715, real: 5.04405593872\n"
       ]
      }
     ],
     "prompt_number": 3
    },
    {
     "cell_type": "code",
     "collapsed": false,
     "input": [],
     "language": "python",
     "metadata": {},
     "outputs": []
    }
   ],
   "metadata": {}
  }
 ]
}