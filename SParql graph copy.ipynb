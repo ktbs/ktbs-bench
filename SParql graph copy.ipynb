{
 "metadata": {
  "name": "",
  "signature": "sha256:a5e59365aaf019cdaeaa32fe93ac7c275d43df9f44f889aeba5f7691c6ab7c77"
 },
 "nbformat": 3,
 "nbformat_minor": 0,
 "worksheets": [
  {
   "cells": [
    {
     "cell_type": "code",
     "collapsed": false,
     "input": [
      "import rdflib as r\n",
      "r.plugin.register('BN', r.store.Store, 'rdflib.plugins.stores.bnsparqlstore', 'SPARQLUpdateStore')"
     ],
     "language": "python",
     "metadata": {},
     "outputs": [],
     "prompt_number": 2
    },
    {
     "cell_type": "code",
     "collapsed": false,
     "input": [
      "g = r.Graph('BN', identifier='http://localhost/test/virtuoso/copy_source/1m/')\n",
      "g.open(('http://localhost:8890/sparql/', 'http://localhost:8890/sparql/'))\n",
      "len(g)"
     ],
     "language": "python",
     "metadata": {},
     "outputs": [
      {
       "metadata": {},
       "output_type": "pyout",
       "prompt_number": 3,
       "text": [
        "1024112"
       ]
      }
     ],
     "prompt_number": 3
    },
    {
     "cell_type": "code",
     "collapsed": false,
     "input": [
      "g.update('COPY <http://localhost/test/virtuoso/copy_source/1m/> TO <http://localhost/test/virtuoso/copy_dest/1m/>')"
     ],
     "language": "python",
     "metadata": {},
     "outputs": [],
     "prompt_number": 4
    },
    {
     "cell_type": "code",
     "collapsed": false,
     "input": [
      "gg = r.Graph('BN', identifier='http://localhost/test/virtuoso/copy_dest/1m/')\n",
      "gg.open(('http://localhost:8890/sparql/', 'http://localhost:8890/sparql/'))\n",
      "len(gg)"
     ],
     "language": "python",
     "metadata": {},
     "outputs": [
      {
       "metadata": {},
       "output_type": "pyout",
       "prompt_number": 5,
       "text": [
        "1024112"
       ]
      }
     ],
     "prompt_number": 5
    },
    {
     "cell_type": "code",
     "collapsed": false,
     "input": [],
     "language": "python",
     "metadata": {},
     "outputs": []
    }
   ],
   "metadata": {}
  }
 ]
}